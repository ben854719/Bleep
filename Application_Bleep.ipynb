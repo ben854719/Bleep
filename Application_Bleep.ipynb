{
  "nbformat": 4,
  "nbformat_minor": 0,
  "metadata": {
    "colab": {
      "private_outputs": true,
      "provenance": [],
      "authorship_tag": "ABX9TyMuyewkSu9mbsYodx9FxJS/",
      "include_colab_link": true
    },
    "kernelspec": {
      "name": "python3",
      "display_name": "Python 3"
    },
    "language_info": {
      "name": "python"
    }
  },
  "cells": [
    {
      "cell_type": "markdown",
      "metadata": {
        "id": "view-in-github",
        "colab_type": "text"
      },
      "source": [
        "<a href=\"https://colab.research.google.com/github/ben854719/Bleep/blob/main/Application_Bleep.ipynb\" target=\"_parent\"><img src=\"https://colab.research.google.com/assets/colab-badge.svg\" alt=\"Open In Colab\"/></a>"
      ]
    },
    {
      "cell_type": "code",
      "execution_count": null,
      "metadata": {
        "collapsed": true,
        "id": "-J1hsn6xmfuT"
      },
      "outputs": [],
      "source": [
        "!apt-get update\n",
        "!apt-get install libboost-all-dev"
      ]
    },
    {
      "cell_type": "code",
      "source": [
        "%%writefile bleep.cpp\n",
        "#include <iostream>\n",
        "#include <string>\n",
        "\n",
        "// Function to replace occurrences of a word with \"BLEEP\"\n",
        "void bleep(const std::string& word, std::string& sentence) {\n",
        "  size_t pos = sentence.find(word);\n",
        "  while (pos != std::string::npos) {\n",
        "    sentence.replace(pos, word.length(), \"BLEEP\");\n",
        "    pos = sentence.find(word, pos + 5); // 5 is the length of \"BLEEP\"\n",
        "  }\n",
        "}\n",
        "\n",
        "// We will use the program call bleep to detect the word brocoli which it was banned by the department of Re-education.\n",
        "int main() {\n",
        "  std::string word = \"brocoli\";\n",
        "\n",
        "  std::string sentence = \"I sometimes eat a brocoli. There are three things about brocoli. Number One, nobody knows how to spell it. Number two, no matter how long boil it, it's always cold by the time it reaches your plates. Number three, it's green brocoli\";\n",
        "\n",
        "  bleep(word, sentence);\n",
        "\n",
        "  for (int i = 0; i < sentence.size(); i++) {\n",
        "    std::cout << sentence[i];\n",
        "  }\n",
        "  std::cout << \"\\n\";\n",
        "\n",
        "  return 0;\n",
        "}\n"
      ],
      "metadata": {
        "collapsed": true,
        "id": "xAe57F506ckh"
      },
      "execution_count": null,
      "outputs": []
    },
    {
      "cell_type": "code",
      "source": [
        "!g++ bleep.cpp -o bleep\n",
        "!./bleep\n"
      ],
      "metadata": {
        "id": "EekNoCjhJwt_"
      },
      "execution_count": null,
      "outputs": []
    },
    {
      "cell_type": "code",
      "source": [
        "%%writefile function.cpp\n",
        "#include <string>\n",
        "#include <iostream> // Added for cout\n",
        "\n",
        "void asterisk(std::string word, std::string &text, int i) {\n",
        "  for(int k = 0; k < word.size(); k++) {\n",
        "    text[i + k] = '*';\n",
        "  }\n",
        "}\n",
        "\n",
        "void bleep(std::string word, std::string &text) {\n",
        "  for(int i = 0; i < text.size(); ++i) {\n",
        "    int match = 0;\n",
        "    for(int j = 0; j < word.size(); j++) {\n",
        "      if (text[i + j] == word[j]) {\n",
        "        match++;\n",
        "      } else {\n",
        "        break;\n",
        "      }\n",
        "    }\n",
        "    if (match == word.size()) {\n",
        "      asterisk(word, text, i);\n",
        "    }\n",
        "  }\n",
        "}\n",
        "\n",
        "int main() {\n",
        "    std::string word = \"broccoli\";\n",
        "    std::string text = \"I sometimes eat a broccoli. There are three things about broccoli. Number One, nobody knows how to spell it. Number two, no matter how long boil it, it's always cold by the time it reaches your plates. Number three, it's green broccoli\";\n",
        "\n",
        "    bleep(word, text);\n",
        "\n",
        "    std::cout << text << std::endl; // Output the modified text\n",
        "\n",
        "    return 0;\n",
        "}"
      ],
      "metadata": {
        "collapsed": true,
        "id": "xiSqGeUAYPkh"
      },
      "execution_count": null,
      "outputs": []
    },
    {
      "cell_type": "code",
      "source": [
        "!g++ function.cpp -o function\n",
        "!./function"
      ],
      "metadata": {
        "id": "AOIL3zOgY0ZX"
      },
      "execution_count": null,
      "outputs": []
    },
    {
      "cell_type": "code",
      "source": [
        "%%writefile function.hpp\n",
        "#include <string>\n",
        "\n",
        "//function declaration.\n",
        "void bleep(std::string word, std::string &text);\n",
        "void asterisk(std::string word, std::string &text, int i);\n"
      ],
      "metadata": {
        "id": "feZy3vpqZcB6"
      },
      "execution_count": null,
      "outputs": []
    }
  ]
}